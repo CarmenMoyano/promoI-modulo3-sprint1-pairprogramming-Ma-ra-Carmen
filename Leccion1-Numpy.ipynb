{
 "cells": [
  {
   "cell_type": "code",
   "execution_count": 1,
   "metadata": {},
   "outputs": [],
   "source": [
    "import numpy as np"
   ]
  },
  {
   "cell_type": "markdown",
   "metadata": {},
   "source": [
    "## Creación y Indexación:\n",
    "\n",
    "1. Crea un array 1D con 50 valores aleatorio del 10 al 99. Accede a los elementos en las posiciones múltiplos de 5."
   ]
  },
  {
   "cell_type": "code",
   "execution_count": 4,
   "metadata": {},
   "outputs": [
    {
     "name": "stdout",
     "output_type": "stream",
     "text": [
      "[80 37 36 90 94 34 17 69 22 62 26 97 62 53 90 19 28 62 72 61 72 27 56 74\n",
      " 56 79 49 74 27 81 12 79 94 93 90 50 28 31 78 52 91 80 49 80 89 28 32 35\n",
      " 22 26]\n",
      "[80 34 26 19 72 79 12 50 91 28]\n"
     ]
    }
   ],
   "source": [
    "array1 = np.random.randint(10,100,50)\n",
    "print(array1)\n",
    "print(array1[::5])"
   ]
  },
  {
   "cell_type": "markdown",
   "metadata": {},
   "source": [
    "2. Crea un array 1D con 30 valores del 1 al 20 (ambos incluidos). Utiliza indexación para obtener los elementos en las posiciones impares."
   ]
  },
  {
   "cell_type": "code",
   "execution_count": 50,
   "metadata": {},
   "outputs": [
    {
     "name": "stdout",
     "output_type": "stream",
     "text": [
      "[ 8  3  3  9  1  6 19 16 12  6  9  8 12  1 19 10 20  9  3 15 14 16  1 11\n",
      " 15 16  8  5  2  4]\n",
      "[ 3  9  6 16  6  8  1 10  9 15 16 11 16  5  4]\n"
     ]
    }
   ],
   "source": [
    "array2 = np.random.randint(1,21,30)\n",
    "print(array2)\n",
    "print(array2[1::2])"
   ]
  },
  {
   "cell_type": "markdown",
   "metadata": {},
   "source": [
    "3. Crea un array 2D de forma (4, 6) con números aleatorios decimales (no deben estar comprendidos solo entre 0 y 1). Accede a la última fila de la matriz. Los decimales deben estar redondeados a 2 decimales."
   ]
  },
  {
   "cell_type": "code",
   "execution_count": 55,
   "metadata": {},
   "outputs": [
    {
     "name": "stdout",
     "output_type": "stream",
     "text": [
      "[[1.74211521 4.5081026  4.12862119 2.18082736 0.28159872 2.34573613]\n",
      " [4.42314413 1.17578674 2.41390195 2.03063115 1.24166328 1.61082028]\n",
      " [0.02957012 3.3326964  3.85051036 0.92560244 0.2677019  2.24838414]\n",
      " [1.92198056 1.13033517 0.84508271 3.29538818 4.01847033 1.53578308]]\n"
     ]
    }
   ],
   "source": [
    "array3 = np.random.rand(4,6)*5\n",
    "print(array3)"
   ]
  },
  {
   "cell_type": "code",
   "execution_count": 57,
   "metadata": {},
   "outputs": [
    {
     "name": "stdout",
     "output_type": "stream",
     "text": [
      "[[2.92804906 3.71605051 0.28577533 1.07634172 3.00150146 0.56939215]\n",
      " [2.19460522 1.06322384 1.63293694 2.61027609 3.3418496  3.60768684]\n",
      " [0.60001396 1.01629941 0.71030214 2.2148145  1.83639431 3.21751273]\n",
      " [0.58049009 4.68183997 4.22386996 0.17385018 4.94810327 0.13240812]]\n",
      "[0.58 4.68 4.22 0.17 4.95 0.13]\n"
     ]
    }
   ],
   "source": [
    "array3 = np.random.random_sample((4,6))*5\n",
    "print(array3)\n",
    "print(np.round(array3[-1],2))"
   ]
  },
  {
   "cell_type": "markdown",
   "metadata": {},
   "source": [
    "\n",
    "BONUS: Crea un array 3D de forma (2, 3, 5) y 30 elementos con números enteros entre 0 y 100 (ambos incluidos). Reemplaza los elementos en posiciones múltiplos de 3 por 0."
   ]
  },
  {
   "cell_type": "code",
   "execution_count": 113,
   "metadata": {},
   "outputs": [
    {
     "name": "stdout",
     "output_type": "stream",
     "text": [
      "[[[44  9 28  9 97]\n",
      "  [56 15 28 10 57]\n",
      "  [16 48 73 35  5]]\n",
      "\n",
      " [[75  5 61 53 24]\n",
      "  [ 1 34 92 50 33]\n",
      "  [58 78 27 64 40]]]\n"
     ]
    }
   ],
   "source": [
    "array4 = np.random.randint(0,101,(2,3,5))\n",
    "print(array4)"
   ]
  },
  {
   "cell_type": "code",
   "execution_count": 114,
   "metadata": {},
   "outputs": [
    {
     "data": {
      "text/plain": [
       "array([44,  9,  0,  9, 97,  0, 15, 28,  0, 57, 16,  0, 73, 35,  0, 75,  5,\n",
       "        0, 53, 24,  0, 34, 92,  0, 33, 58,  0, 27, 64,  0])"
      ]
     },
     "execution_count": 114,
     "metadata": {},
     "output_type": "execute_result"
    }
   ],
   "source": [
    "array5 = array4.flatten()\n",
    "# array6 = array5[::3] = 0\n",
    "array5[2::3] = 0\n",
    "array5"
   ]
  },
  {
   "cell_type": "code",
   "execution_count": 115,
   "metadata": {},
   "outputs": [
    {
     "data": {
      "text/plain": [
       "array([[[44,  9,  0,  9, 97],\n",
       "        [ 0, 15, 28,  0, 57],\n",
       "        [16,  0, 73, 35,  0]],\n",
       "\n",
       "       [[75,  5,  0, 53, 24],\n",
       "        [ 0, 34, 92,  0, 33],\n",
       "        [58,  0, 27, 64,  0]]])"
      ]
     },
     "execution_count": 115,
     "metadata": {},
     "output_type": "execute_result"
    }
   ],
   "source": [
    "array5.reshape(2,3,5)"
   ]
  },
  {
   "cell_type": "markdown",
   "metadata": {},
   "source": [
    "## Reshape y Transpose:\n",
    "### Ejercicios con reshape:\n",
    "\n",
    "1. Crea un array 3D de forma (2, 3, 4) con valores aleatorios entre 1 y 100 (ambos inclusive). Utiliza reshape para convertirlo en un array 2D. Deberás pensar en la forma que es correcta para hacer este cambio.\n",
    "\n",
    "2. Crea un array 3D de forma (3, 4, 5) con valores enteros del 1 al 61 (sin incluir). Utiliza reshape para convertirlo en un array 2D.\n",
    "\n"
   ]
  },
  {
   "cell_type": "code",
   "execution_count": 61,
   "metadata": {},
   "outputs": [
    {
     "name": "stdout",
     "output_type": "stream",
     "text": [
      "[[[41 67 96 22]\n",
      "  [44 26 12 23]\n",
      "  [74  3 21 58]]\n",
      "\n",
      " [[24 83  9 13]\n",
      "  [54 57 83 49]\n",
      "  [ 7 47  1 20]]]\n",
      "[[41 67 96 22 44 26]\n",
      " [12 23 74  3 21 58]\n",
      " [24 83  9 13 54 57]\n",
      " [83 49  7 47  1 20]]\n"
     ]
    }
   ],
   "source": [
    "array = np.random.randint(1,101,(2,3,4))\n",
    "print(array)\n",
    "print(np.reshape(array,(4,6)))"
   ]
  },
  {
   "cell_type": "code",
   "execution_count": 63,
   "metadata": {},
   "outputs": [
    {
     "name": "stdout",
     "output_type": "stream",
     "text": [
      "[[[37 30 56 12 38]\n",
      "  [42 24 18 55  4]\n",
      "  [ 2 56 28 39 37]\n",
      "  [30 58 33 47 22]]\n",
      "\n",
      " [[17 44 38  9 49]\n",
      "  [32 12 49 34 49]\n",
      "  [12 56 18 16 39]\n",
      "  [18 52 48 29 59]]\n",
      "\n",
      " [[23 14 16  3 31]\n",
      "  [48 45 45 46 44]\n",
      "  [56  7 24 25 42]\n",
      "  [43 49  4 44 60]]]\n",
      "[[37 30 56 12 38 42 24 18 55  4]\n",
      " [ 2 56 28 39 37 30 58 33 47 22]\n",
      " [17 44 38  9 49 32 12 49 34 49]\n",
      " [12 56 18 16 39 18 52 48 29 59]\n",
      " [23 14 16  3 31 48 45 45 46 44]\n",
      " [56  7 24 25 42 43 49  4 44 60]]\n"
     ]
    }
   ],
   "source": [
    "array1 = np.random.randint(1,61,(3,4,5))\n",
    "print(array1)\n",
    "\n",
    "print(np.reshape(array1,(6,10)))"
   ]
  },
  {
   "cell_type": "markdown",
   "metadata": {},
   "source": [
    "### Ejercicios con transpose:\n",
    "\n",
    "3. Utiliza el array 3D del ejercicio 2 de reshape. Utiliza transpose para permutar los ejes y obtener un nuevo array con forma (5, 4, 3)."
   ]
  },
  {
   "cell_type": "code",
   "execution_count": 66,
   "metadata": {},
   "outputs": [
    {
     "data": {
      "text/plain": [
       "array([[[37, 17, 23],\n",
       "        [42, 32, 48],\n",
       "        [ 2, 12, 56],\n",
       "        [30, 18, 43]],\n",
       "\n",
       "       [[30, 44, 14],\n",
       "        [24, 12, 45],\n",
       "        [56, 56,  7],\n",
       "        [58, 52, 49]],\n",
       "\n",
       "       [[56, 38, 16],\n",
       "        [18, 49, 45],\n",
       "        [28, 18, 24],\n",
       "        [33, 48,  4]],\n",
       "\n",
       "       [[12,  9,  3],\n",
       "        [55, 34, 46],\n",
       "        [39, 16, 25],\n",
       "        [47, 29, 44]],\n",
       "\n",
       "       [[38, 49, 31],\n",
       "        [ 4, 49, 44],\n",
       "        [37, 39, 42],\n",
       "        [22, 59, 60]]])"
      ]
     },
     "execution_count": 66,
     "metadata": {},
     "output_type": "execute_result"
    }
   ],
   "source": [
    "np.transpose(array1,(2,1,0))"
   ]
  },
  {
   "cell_type": "markdown",
   "metadata": {},
   "source": [
    "4. Utiliza el array 3D del ejercicio 2 de reshape. Utiliza transpose para cambiar el orden de los ejes y obtener un nuevo array con forma (3, 5, 4)."
   ]
  },
  {
   "cell_type": "code",
   "execution_count": 67,
   "metadata": {},
   "outputs": [
    {
     "data": {
      "text/plain": [
       "array([[[37, 30, 56, 12, 38],\n",
       "        [42, 24, 18, 55,  4],\n",
       "        [ 2, 56, 28, 39, 37],\n",
       "        [30, 58, 33, 47, 22]],\n",
       "\n",
       "       [[17, 44, 38,  9, 49],\n",
       "        [32, 12, 49, 34, 49],\n",
       "        [12, 56, 18, 16, 39],\n",
       "        [18, 52, 48, 29, 59]],\n",
       "\n",
       "       [[23, 14, 16,  3, 31],\n",
       "        [48, 45, 45, 46, 44],\n",
       "        [56,  7, 24, 25, 42],\n",
       "        [43, 49,  4, 44, 60]]])"
      ]
     },
     "execution_count": 67,
     "metadata": {},
     "output_type": "execute_result"
    }
   ],
   "source": [
    "array1"
   ]
  },
  {
   "cell_type": "code",
   "execution_count": 68,
   "metadata": {},
   "outputs": [
    {
     "data": {
      "text/plain": [
       "array([[[37, 42,  2, 30],\n",
       "        [30, 24, 56, 58],\n",
       "        [56, 18, 28, 33],\n",
       "        [12, 55, 39, 47],\n",
       "        [38,  4, 37, 22]],\n",
       "\n",
       "       [[17, 32, 12, 18],\n",
       "        [44, 12, 56, 52],\n",
       "        [38, 49, 18, 48],\n",
       "        [ 9, 34, 16, 29],\n",
       "        [49, 49, 39, 59]],\n",
       "\n",
       "       [[23, 48, 56, 43],\n",
       "        [14, 45,  7, 49],\n",
       "        [16, 45, 24,  4],\n",
       "        [ 3, 46, 25, 44],\n",
       "        [31, 44, 42, 60]]])"
      ]
     },
     "execution_count": 68,
     "metadata": {},
     "output_type": "execute_result"
    }
   ],
   "source": [
    "np.transpose(array1,(0,2,1))"
   ]
  },
  {
   "cell_type": "markdown",
   "metadata": {},
   "source": [
    "### Preguntas teóricas:\n",
    "\n",
    "5. ¿Qué diferencia existe entre el reshape y el transpose?\n",
    "5.1. reshape - Cambia la forma sin cambiar los datos\n",
    "5.2. transpose - intercambia las dimensiones sin cambiar los datos\n",
    "\n",
    "6. ¿Y entre el transpose y el swapaxes?\n",
    "6.1. transpose - intercambia las dimensiones sin cambiar los datos.\n",
    "6.2. swapaxes - cambia dos ejes de un array."
   ]
  },
  {
   "cell_type": "markdown",
   "metadata": {},
   "source": [
    "## Funciones Aritméticas y Estadísticas:\n",
    "\n",
    "1. Crea un array de tres 3D con elementos entre el 0 y 1 de forma (2, 3, 5) cuyos valores solo tengan 1 decimal."
   ]
  },
  {
   "cell_type": "code",
   "execution_count": 4,
   "metadata": {},
   "outputs": [
    {
     "data": {
      "text/plain": [
       "array([[[0.1, 0.3, 0.8, 0.3, 0.8],\n",
       "        [0.4, 0.5, 0.5, 0.1, 0.8],\n",
       "        [0.3, 0.9, 0.3, 0.3, 0.4]],\n",
       "\n",
       "       [[0.8, 0.7, 0.5, 0.9, 0.1],\n",
       "        [0.5, 0.2, 0.9, 0.1, 0.7],\n",
       "        [0.9, 0.6, 0.2, 0.1, 0.3]]])"
      ]
     },
     "execution_count": 4,
     "metadata": {},
     "output_type": "execute_result"
    }
   ],
   "source": [
    "array = np.round(np.random.rand(2,3,5),1)\n",
    "array"
   ]
  },
  {
   "cell_type": "markdown",
   "metadata": {},
   "source": [
    "2. Crea un array vacío con la misma forma y dimensiones que el array creado anteriormente. Vamos a reemplazar los valores de la matriz vacía que nos acabamos de crear pero basándonos en los valores del primer array bajo las siguientes condiciones:\n",
    "\n",
    "    2.1. Si el valor del array es igual que la media, se reemplaza por \"A\".\n",
    "\n",
    "    2.2. Si el valor del array es mayor que la media, se reemplaza por \"B\".\n",
    "\n",
    "    2.3. Si el valor del array es menor que la media, se reemplaza por \"C\".\n",
    "\n",
    "    2.4. Si el valor es igual que el máximo, se reemplaza por \"D\".\n",
    "\n",
    "    2.5. Si el valor es igual que el mínimo, se reemplaza por \"E\"."
   ]
  },
  {
   "cell_type": "code",
   "execution_count": 5,
   "metadata": {},
   "outputs": [
    {
     "data": {
      "text/plain": [
       "array([[[0.1, 0.3, 0.8, 0.3, 0.8],\n",
       "        [0.4, 0.5, 0.5, 0.1, 0.8],\n",
       "        [0.3, 0.9, 0.3, 0.3, 0.4]],\n",
       "\n",
       "       [[0.8, 0.7, 0.5, 0.9, 0.1],\n",
       "        [0.5, 0.2, 0.9, 0.1, 0.7],\n",
       "        [0.9, 0.6, 0.2, 0.1, 0.3]]])"
      ]
     },
     "execution_count": 5,
     "metadata": {},
     "output_type": "execute_result"
    }
   ],
   "source": [
    "array_vacio = np.empty((2,3,5))\n",
    "array_vacio"
   ]
  },
  {
   "cell_type": "code",
   "execution_count": 6,
   "metadata": {},
   "outputs": [
    {
     "data": {
      "text/plain": [
       "0.5"
      ]
     },
     "execution_count": 6,
     "metadata": {},
     "output_type": "execute_result"
    }
   ],
   "source": [
    "media = np.round(np.mean(array),1)\n",
    "media"
   ]
  },
  {
   "cell_type": "code",
   "execution_count": 7,
   "metadata": {},
   "outputs": [
    {
     "data": {
      "text/plain": [
       "array([[[0.1, 0.3, 0.8, 0.3, 0.8],\n",
       "        [0.4, 0.5, 0.5, 0.1, 0.8],\n",
       "        [0.3, 0.9, 0.3, 0.3, 0.4]],\n",
       "\n",
       "       [[0.8, 0.7, 0.5, 0.9, 0.1],\n",
       "        [0.5, 0.2, 0.9, 0.1, 0.7],\n",
       "        [0.9, 0.6, 0.2, 0.1, 0.3]]])"
      ]
     },
     "execution_count": 7,
     "metadata": {},
     "output_type": "execute_result"
    }
   ],
   "source": [
    "array"
   ]
  },
  {
   "cell_type": "code",
   "execution_count": 8,
   "metadata": {},
   "outputs": [
    {
     "data": {
      "text/plain": [
       "array([[['E', 'C', 'B', 'C', 'B'],\n",
       "        ['C', 'A', 'A', 'E', 'B'],\n",
       "        ['C', 'D', 'C', 'C', 'C']],\n",
       "\n",
       "       [['B', 'B', 'A', 'D', 'E'],\n",
       "        ['A', 'C', 'D', 'E', 'B'],\n",
       "        ['D', 'B', 'C', 'E', 'C']]], dtype='<U1')"
      ]
     },
     "execution_count": 8,
     "metadata": {},
     "output_type": "execute_result"
    }
   ],
   "source": [
    "array_final = np.where(array == media, \"A\", np.where(np.min(array) == array, \"E\", np.where(array < media, \"C\", np.where(np.max(array) == array, \"D\", np.where(array > media, \"B\", \"x\")))))\n",
    "array_final"
   ]
  },
  {
   "cell_type": "code",
   "execution_count": 11,
   "metadata": {},
   "outputs": [
    {
     "data": {
      "text/plain": [
       "[0.1,\n",
       " 0.3,\n",
       " 0.8,\n",
       " 0.3,\n",
       " 0.8,\n",
       " 0.4,\n",
       " 0.5,\n",
       " 0.5,\n",
       " 0.1,\n",
       " 0.8,\n",
       " 0.3,\n",
       " 0.9,\n",
       " 0.3,\n",
       " 0.3,\n",
       " 0.4,\n",
       " 0.8,\n",
       " 0.7,\n",
       " 0.5,\n",
       " 0.9,\n",
       " 0.1,\n",
       " 0.5,\n",
       " 0.2,\n",
       " 0.9,\n",
       " 0.1,\n",
       " 0.7,\n",
       " 0.9,\n",
       " 0.6,\n",
       " 0.2,\n",
       " 0.1,\n",
       " 0.3]"
      ]
     },
     "execution_count": 11,
     "metadata": {},
     "output_type": "execute_result"
    }
   ],
   "source": [
    "flat_array = array.flatten()\n",
    "list(flat_array)"
   ]
  }
 ],
 "metadata": {
  "kernelspec": {
   "display_name": "base",
   "language": "python",
   "name": "python3"
  },
  "language_info": {
   "codemirror_mode": {
    "name": "ipython",
    "version": 3
   },
   "file_extension": ".py",
   "mimetype": "text/x-python",
   "name": "python",
   "nbconvert_exporter": "python",
   "pygments_lexer": "ipython3",
   "version": "3.11.9"
  }
 },
 "nbformat": 4,
 "nbformat_minor": 2
}
